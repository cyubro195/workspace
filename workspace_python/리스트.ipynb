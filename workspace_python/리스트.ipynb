{
 "cells": [
  {
   "cell_type": "code",
   "execution_count": null,
   "metadata": {},
   "outputs": [],
   "source": []
  },
  {
   "cell_type": "code",
   "execution_count": null,
   "metadata": {},
   "outputs": [],
   "source": []
  },
  {
   "cell_type": "code",
   "execution_count": null,
   "metadata": {},
   "outputs": [],
   "source": []
  },
  {
   "cell_type": "code",
   "execution_count": null,
   "metadata": {},
   "outputs": [],
   "source": []
  },
  {
   "cell_type": "code",
   "execution_count": null,
   "metadata": {},
   "outputs": [],
   "source": []
  },
  {
   "cell_type": "code",
   "execution_count": null,
   "metadata": {},
   "outputs": [],
   "source": [
    "#데이터 추가 첫번째\n",
    "print(list1)"
   ]
  },
  {
   "cell_type": "code",
   "execution_count": 5,
   "metadata": {},
   "outputs": [
    {
     "ename": "NameError",
     "evalue": "name 'list1' is not defined",
     "output_type": "error",
     "traceback": [
      "\u001b[1;31m---------------------------------------------------------------------------\u001b[0m",
      "\u001b[1;31mNameError\u001b[0m                                 Traceback (most recent call last)",
      "Cell \u001b[1;32mIn[5], line 2\u001b[0m\n\u001b[0;32m      1\u001b[0m \u001b[38;5;66;03m#데이터 추가 두번째\u001b[39;00m\n\u001b[1;32m----> 2\u001b[0m \u001b[43mlist1\u001b[49m\u001b[38;5;241m.\u001b[39minsert(\u001b[38;5;241m1\u001b[39m,\u001b[38;5;241m5\u001b[39m)\n\u001b[0;32m      4\u001b[0m \u001b[38;5;28mprint\u001b[39m(list1)\n",
      "\u001b[1;31mNameError\u001b[0m: name 'list1' is not defined"
     ]
    }
   ],
   "source": [
    "#데이터 추가 두번째\n",
    "#insert(추가할 위치, 추가할 데이터)\n",
    "list1.insert(1,5)\n",
    "print(list1)"
   ]
  },
  {
   "cell_type": "code",
   "execution_count": 6,
   "metadata": {},
   "outputs": [],
   "source": [
    "list2 = [1]"
   ]
  },
  {
   "cell_type": "code",
   "execution_count": 11,
   "metadata": {},
   "outputs": [
    {
     "name": "stdout",
     "output_type": "stream",
     "text": [
      "[1, 2, 2]\n"
     ]
    }
   ],
   "source": [
    "print(list2)"
   ]
  },
  {
   "cell_type": "code",
   "execution_count": 10,
   "metadata": {},
   "outputs": [],
   "source": [
    "list2.append(2) # < 애 계속 ▲ 위에 print(list2) 실행시키면 2가 계속 추가됨!!!!!!!!"
   ]
  },
  {
   "cell_type": "code",
   "execution_count": null,
   "metadata": {},
   "outputs": [],
   "source": [
    "#리스트 데이터 삭제1 \n",
    "print('삭제 전 데이터!')\n",
    "print(list1)\n",
    "\n",
    "# 파이썬은 데이터가 삭제됨, (2)라고 쓰면 배열[2]가 아니라 데이터 (2)가 삭제 됨!!!!\n",
    "list1.remove(2)\n",
    "# 삭제 된 후에 누르면 에러뜸!\n",
    "# 중복된 데이터를 삭제할려면 첫번째 데이터부터 삭제됨!!!! 1,5,5,1,5 면 5삭제하면 1,5,1,5 가 됨. < 생각지도 못한 데이터가 날아갈 변수가 많음! \n",
    "print('삭제 후 데이터')\n",
    "print(list1)\n",
    "\n"
   ]
  },
  {
   "cell_type": "code",
   "execution_count": 12,
   "metadata": {},
   "outputs": [
    {
     "name": "stdout",
     "output_type": "stream",
     "text": [
      "[2, 'python', [1, 2, 3]]\n"
     ]
    }
   ],
   "source": [
    "\n",
    "# 리스트 데이터 삭제2 (📌적극추천) 중복된 데이터 지울때 젤 좋음!\n",
    "list4 = [1,2,'python',[1,2,3]]\n",
    "\n",
    "del list4[0] #인덱스로 삭제가능! 0번째 삭제가능\n",
    "print(list4) # <<< 1 삭제됨.\n",
    "\n"
   ]
  },
  {
   "cell_type": "code",
   "execution_count": null,
   "metadata": {},
   "outputs": [],
   "source": [
    "# 삭제 시 주의\n",
    "# 아래 코드는 list4라는 리스트 자체를 삭제하는 방법\n",
    "del list4  # << 통삭제."
   ]
  },
  {
   "cell_type": "code",
   "execution_count": 13,
   "metadata": {},
   "outputs": [],
   "source": [
    "# 오타 주의 할 것!❌📛❌\n",
    "stunum = 10 # << 이렇게 오타내고.....\n",
    "stuNum = 10 # << 오타수정해도 데이터는 계속 남아있음.\n",
    "\n",
    "# 오타 삭제하는 방법\n",
    "del stunum # < del로 그냥 삭제하면 so easy✨"
   ]
  },
  {
   "cell_type": "code",
   "execution_count": 14,
   "metadata": {},
   "outputs": [
    {
     "name": "stdout",
     "output_type": "stream",
     "text": [
      "[1, 5, 3]\n"
     ]
    }
   ],
   "source": [
    "# 리스트 데이터 수정\n",
    "list5 = [1,2,3] # 리스트 사이에 2를 빼고 5를 넣고싶으면\n",
    "list5[1] = 5 # 2 -> 5\n",
    "print(list5)  \n",
    "\n"
   ]
  },
  {
   "cell_type": "code",
   "execution_count": 17,
   "metadata": {},
   "outputs": [
    {
     "name": "stdout",
     "output_type": "stream",
     "text": [
      "[1, 2, 3, 4, 5]\n",
      "[1, 2, 3, 1, 2, 3]\n"
     ]
    }
   ],
   "source": [
    "# 리스트 합치기 < 앤 많이 씀! \n",
    "list6 = [1,2,3] + [4,5] # so easy✨\n",
    "print(list6)\n",
    "\n",
    "# 다른 방법 < 근데 애는 잘 안씀;;\n",
    "list7 = [1,2,3] * 2 \n",
    "print(list7)"
   ]
  },
  {
   "cell_type": "code",
   "execution_count": 18,
   "metadata": {},
   "outputs": [
    {
     "name": "stdout",
     "output_type": "stream",
     "text": [
      "[2, 3, 4]\n",
      "[2, 3, 4, 5]\n",
      "[1, 2, 3]\n",
      "[1, 2, 3, 4, 5]\n"
     ]
    }
   ],
   "source": [
    "\n",
    "# ┗|｀O′|┛ 💢💢💢💢시험나옴💢💢💢💢(ﾟДﾟ*)ﾉ\n",
    "\n",
    "# 리스트의 슬라이싱 : 리스트 데이터의 일부 추출\n",
    "list1 = [1,2,3,4,5]\n",
    "print(list1[1:4]) # 특이하게..넣기..\n",
    "# 2,3,4 나옴 1번은 시작위치 4번은 끝나는 위치인데 시작위치는 안뜸..\n",
    "print(list1[1:])\n",
    "print(list1[:3])\n",
    "print(list1[:]) # < 처음부터 마지막까지~\n"
   ]
  },
  {
   "cell_type": "code",
   "execution_count": 19,
   "metadata": {},
   "outputs": [
    {
     "name": "stdout",
     "output_type": "stream",
     "text": [
      "[1, 5]\n"
     ]
    }
   ],
   "source": [
    "# 슬라이싱을 이용한 데이터 삭제! \n",
    "list1 = [1,2,3,4,5]\n",
    "del list1[1:4]\n",
    "print(list1)"
   ]
  },
  {
   "cell_type": "code",
   "execution_count": 21,
   "metadata": {},
   "outputs": [
    {
     "name": "stdout",
     "output_type": "stream",
     "text": [
      "[1, 7, 8, 4, 5]\n"
     ]
    }
   ],
   "source": [
    "# 슬라이싱을 이용한 데이터 수정\n",
    "list1 = [1,2,3,4,5]\n",
    "list1[1:3] = [7,8]\n",
    "print(list1)\n"
   ]
  },
  {
   "cell_type": "code",
   "execution_count": 23,
   "metadata": {},
   "outputs": [
    {
     "name": "stdout",
     "output_type": "stream",
     "text": [
      "5\n",
      "[2, 3, 4]\n"
     ]
    }
   ],
   "source": [
    "\n",
    "# 리스트의 마지막 데이터를 알고 싶을 때 [-1] 사용 // 생각보다 많이 씀...\n",
    "# [ -5,-4,-3,-2,-1 ] -1은 마지막 데이터 찾을때 많이 씀! \n",
    "list1 = [1,2,3,4,5]\n",
    "print(list1[-1])\n",
    "print(list1[1:-1])\n"
   ]
  },
  {
   "cell_type": "code",
   "execution_count": 30,
   "metadata": {},
   "outputs": [
    {
     "name": "stdout",
     "output_type": "stream",
     "text": [
      "20\n"
     ]
    }
   ],
   "source": [
    "# 시험문제\n",
    "\n",
    "# 1. 키보드로 세 수를 입력받고, 입력받은 세 수를 리스트에 저장하시오.\n",
    "# 그 후 리스트에 저장된 수 중 가장 큰 수와 가장 작은 수의 차를 출력하셈\n",
    "\n",
    "# print(' 세 수를 입력하쉥 ')\n",
    "# num1 = int(input('첫번째 숫자를 입력해주세용 : '))\n",
    "# num2 = int(input('두번째 숫자를 입력해주세용 : '))\n",
    "# num3 = int(input('세번째 숫자를 입력해주세용 : '))\n",
    "\n",
    "\n",
    "# 더 우아하게 하는 방법💚\n",
    "list1 = [] #빈 리스트 만들어주고\n",
    "\n",
    "for i in range(3) : # 3번 반복하게 만들기\n",
    "  num = int(input(f'{i+1} 번째 정수 입력 : '))\n",
    "  list1.append(num)\n",
    "\n",
    "answer = max(list1) - min(list1)\n",
    "print(answer)\n",
    "\n",
    "# num1 = max([1,2,3]) 젤 큰 수 나옴\n",
    "# num2 = min([1,2,3]) 젤 작은 수\n",
    "\n",
    "# 파이썬에서는 함수가 지정 된 애가 있는데 겹치면 안됨 ex) list 처럼... max = 0, min = 0"
   ]
  },
  {
   "cell_type": "code",
   "execution_count": 24,
   "metadata": {},
   "outputs": [],
   "source": [
    "# 2. 매개변수로 두 개의 리스트를 받아, 두 개의 리스트에 저장된 모든 데이터의 합을 리턴하는 함수를 작성하셈.\n",
    "\n"
   ]
  },
  {
   "cell_type": "code",
   "execution_count": null,
   "metadata": {},
   "outputs": [],
   "source": [
    "# 3. 아래 제시된 데이터에서 3의 갯수를 출력하세요\n",
    "data = [1,2,3,[1,5],[2,3,4],3,[8,5,3]]\n",
    "\n"
   ]
  },
  {
   "cell_type": "code",
   "execution_count": 31,
   "metadata": {},
   "outputs": [
    {
     "name": "stdout",
     "output_type": "stream",
     "text": [
      "p\n",
      "yth\n"
     ]
    }
   ],
   "source": [
    "# 문자열도 리스트다!\n",
    "\n",
    "name = 'python'\n",
    "print(name[0]) \n",
    "print(name[1:4]) # 슬라이슁으로 썁거넝\n"
   ]
  },
  {
   "cell_type": "code",
   "execution_count": 35,
   "metadata": {},
   "outputs": [
    {
     "name": "stdout",
     "output_type": "stream",
     "text": [
      "4\n"
     ]
    }
   ],
   "source": [
    "# 아래 리스트에 저장된 문자열에서 'r' 이라는 알파벳의 갯수를 출력하셈....\n",
    "strList = [ 'father' , 'mother' , 'brother']\n",
    "\n",
    "cnt = 0\n",
    "for word in strList :\n",
    "  for alphabet in word : \n",
    "    if alphabet == 'r' :\n",
    "      cnt = cnt + 1 \n",
    "\n",
    "print(cnt)\n"
   ]
  }
 ],
 "metadata": {
  "kernelspec": {
   "display_name": "Python 3",
   "language": "python",
   "name": "python3"
  },
  "language_info": {
   "codemirror_mode": {
    "name": "ipython",
    "version": 3
   },
   "file_extension": ".py",
   "mimetype": "text/x-python",
   "name": "python",
   "nbconvert_exporter": "python",
   "pygments_lexer": "ipython3",
   "version": "3.12.4"
  }
 },
 "nbformat": 4,
 "nbformat_minor": 2
}
