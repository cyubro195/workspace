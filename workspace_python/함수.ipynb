{
 "cells": [
  {
   "cell_type": "code",
   "execution_count": 13,
   "metadata": {},
   "outputs": [
    {
     "name": "stdout",
     "output_type": "stream",
     "text": [
      "hi~~~\n",
      "hello😎\n"
     ]
    }
   ],
   "source": [
    "# 파이썬의 함수 선언 👀✨\n",
    "\n",
    "def sayHello() :  #자바스크립트의 fun셩이랑 같음\n",
    "  #선언\n",
    "  print('hi~~~')\n",
    "  print('hello😎')\n",
    "\n",
    "#호출\n",
    "sayHello()"
   ]
  },
  {
   "cell_type": "code",
   "execution_count": 14,
   "metadata": {},
   "outputs": [],
   "source": [
    "# 리턴이 있는 함수\n",
    "def getSum() :\n",
    "  return 10 + 20 # 리턴은 따로 없는데 넣어서 해달라고하면 해줌! \n"
   ]
  },
  {
   "cell_type": "code",
   "execution_count": 15,
   "metadata": {},
   "outputs": [
    {
     "name": "stdout",
     "output_type": "stream",
     "text": [
      "30\n"
     ]
    }
   ],
   "source": [
    "print(getSum())"
   ]
  },
  {
   "cell_type": "code",
   "execution_count": 16,
   "metadata": {},
   "outputs": [],
   "source": [
    "# 파이썬은 함수에서 리턴을 여러개 할 수 있다 << 파이썬만 가능 자바스크립트 자바에서는 절대안됨❌\n",
    "def getNumbers()  : \n",
    "  return 10, 20 "
   ]
  },
  {
   "cell_type": "code",
   "execution_count": 17,
   "metadata": {},
   "outputs": [
    {
     "name": "stdout",
     "output_type": "stream",
     "text": [
      "10 20\n"
     ]
    }
   ],
   "source": [
    "result1, result2 = getNumbers()\n",
    "print(result1, result2) # 심지어 2개 다 할수있음;;; 원하는 갯수만큼 쌉가능! "
   ]
  },
  {
   "cell_type": "code",
   "execution_count": 18,
   "metadata": {},
   "outputs": [],
   "source": [
    "#매개변수가 있는 함수\n",
    "#변수자리 넣어주셈 ▼\n",
    "def getMulti(num1, num2) : \n",
    "  return num1 * num2"
   ]
  },
  {
   "cell_type": "code",
   "execution_count": 19,
   "metadata": {},
   "outputs": [
    {
     "name": "stdout",
     "output_type": "stream",
     "text": [
      "50\n"
     ]
    }
   ],
   "source": [
    "print(getMulti(10,5))"
   ]
  },
  {
   "cell_type": "code",
   "execution_count": 20,
   "metadata": {},
   "outputs": [],
   "source": [
    "# 매개변수에 default값을 지정할 수 있다.\n",
    "def getSum(num1,num2, num3 = 10) :\n",
    "  return num1 + num2 + num3"
   ]
  },
  {
   "cell_type": "code",
   "execution_count": 21,
   "metadata": {},
   "outputs": [
    {
     "name": "stdout",
     "output_type": "stream",
     "text": [
      "6\n",
      "13\n"
     ]
    }
   ],
   "source": [
    "print(getSum(1,2,3))\n",
    "print(getSum(1,2))"
   ]
  },
  {
   "cell_type": "code",
   "execution_count": 22,
   "metadata": {},
   "outputs": [],
   "source": [
    "# 매개변수로 들어가는 인자를 이름으로 지정할 수 있다.\n",
    "def setMember(name, age, addr) : \n",
    "  print(f'이름은 {name}')\n",
    "  print(f'ㄴㅇ은 {age}')\n",
    "  print(f'ㅈㅅ은 {addr}')"
   ]
  },
  {
   "cell_type": "code",
   "execution_count": 25,
   "metadata": {},
   "outputs": [
    {
     "name": "stdout",
     "output_type": "stream",
     "text": [
      "이름은 박파이\n",
      "ㄴㅇ은 20\n",
      "ㅈㅅ은 LA\n",
      "이름은 박파이\n",
      "ㄴㅇ은 20\n",
      "ㅈㅅ은 서울\n",
      "hihi\n"
     ]
    }
   ],
   "source": [
    "setMember( '박파이', 20 , 'LA' )\n",
    "setMember( name= '박파이',  age=20 ,  addr='서울')\n",
    "# 순서대로 안바꿔도 알아서 지가 바꿔줌.\n",
    "\n",
    "def myPrint(str, end = '\\n') : \n",
    "  print(str)\n",
    "\n",
    "print('hi', end= '')\n",
    "print('hi')"
   ]
  },
  {
   "cell_type": "code",
   "execution_count": null,
   "metadata": {},
   "outputs": [],
   "source": [
    "# 매개변수로 정수로 이루어진 두 개의 리스트가 들어올 때\n",
    "# 두 리스트의 모든 요소 중 가장 큰 값을 리턴하는 함수\n",
    "\n",
    "def getMaxOfList(list1, list2) :\n",
    "  return max(list1 + list2)\n",
    "\n",
    "print(getMaxOfList([1,2,3],[4,5,6]))"
   ]
  },
  {
   "cell_type": "code",
   "execution_count": null,
   "metadata": {},
   "outputs": [],
   "source": [
    "# 매개변수로 세 개의 문자열이 전달되면 세 문자열의 2번째 글자를 모은 리스트를 리턴하는 함수\n",
    "# 단 매개변수로 전달되는 문자열은 모두 길이가 3이상인 문자열만 들어온다고 가정한다.\n",
    "# ex) 'school','phone','home' => ['h','d','m']\n",
    "\n",
    "def setWord(str1, str2, str3) :\n",
    "  return [str1[2],str2[2], str3[2]]\n",
    "\n",
    "print(setWord('school','',''))\n"
   ]
  },
  {
   "cell_type": "code",
   "execution_count": null,
   "metadata": {},
   "outputs": [],
   "source": []
  }
 ],
 "metadata": {
  "kernelspec": {
   "display_name": "Python 3",
   "language": "python",
   "name": "python3"
  },
  "language_info": {
   "codemirror_mode": {
    "name": "ipython",
    "version": 3
   },
   "file_extension": ".py",
   "mimetype": "text/x-python",
   "name": "python",
   "nbconvert_exporter": "python",
   "pygments_lexer": "ipython3",
   "version": "3.12.4"
  }
 },
 "nbformat": 4,
 "nbformat_minor": 2
}
