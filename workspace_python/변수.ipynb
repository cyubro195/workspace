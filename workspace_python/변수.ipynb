{
 "cells": [
  {
   "cell_type": "markdown",
   "metadata": {},
   "source": [
    "### 변수\n",
    "1. 파이썬에서는 자료형이 자바랑 다르게 눈에 보이지 않습니다\n",
    "2. 변수명은 자바와 동일한 형식으로 저장하면됨! (소문자, 똑같은거 중복불가)"
   ]
  },
  {
   "cell_type": "code",
   "execution_count": 2,
   "metadata": {},
   "outputs": [
    {
     "name": "stdout",
     "output_type": "stream",
     "text": [
      "5\n"
     ]
    }
   ],
   "source": [
    "# 숫자를 저장하는 변수 선언 및 값 할당\n",
    "num1 = 5\n",
    "print(num1)"
   ]
  },
  {
   "cell_type": "code",
   "execution_count": 6,
   "metadata": {},
   "outputs": [
    {
     "name": "stdout",
     "output_type": "stream",
     "text": [
      "<class 'int'>\n",
      "<class 'float'>\n",
      "<class 'str'>\n",
      "python\n"
     ]
    }
   ],
   "source": [
    "num1 = 10 \n",
    "\n",
    "# 눈에 보이지는 않지만 자료형 개념은 존재\n",
    "\n",
    "num2 = 20\n",
    "num3 = 10.5\n",
    "strData = 'python'\n",
    "\n",
    "# type() : 함수는 매개변수로 전달된 데이터의 자료형을 알려줌;\n",
    "print(type(num2))\n",
    "print(type(num3))\n",
    "print(type(strData))\n",
    "\n",
    "# 정수가 저장된 변수에 문자열이나 실수처럼 다른 자료형이 저장이 될까?\n",
    "num4 = 20\n",
    "num4 = 'python'\n",
    "print(num4)\n",
    "\n",
    "\n"
   ]
  },
  {
   "cell_type": "code",
   "execution_count": 7,
   "metadata": {},
   "outputs": [
    {
     "name": "stdout",
     "output_type": "stream",
     "text": [
      "python\n"
     ]
    }
   ],
   "source": [
    "## 중요한건 cell은 다르지만 한공간에 있는 애들은 다 써지는거임!!!\n",
    "print(num4)"
   ]
  },
  {
   "cell_type": "code",
   "execution_count": 14,
   "metadata": {},
   "outputs": [
    {
     "name": "stdout",
     "output_type": "stream",
     "text": [
      "내 이름은 홍길동 입니다\n"
     ]
    }
   ],
   "source": [
    "# 포맷 출력(자바스크립트의 빽틱 (``))\n",
    "name = '홍길동'\n",
    "\n",
    "# 내 이름은 홍길동입니다.\n",
    "print('내 이름은 '+ name +' 입니다')\n",
    "\n",
    "age = 20\n",
    "# 제 나이는 20살입니다 < 파이썬은 문자열+숫자의 합은 안됨.\n",
    "# print('제 나이는' + age + '입니다')"
   ]
  },
  {
   "cell_type": "code",
   "execution_count": 16,
   "metadata": {},
   "outputs": [
    {
     "name": "stdout",
     "output_type": "stream",
     "text": [
      "제 이름은 홍길동 이고 나이는 20 입니다.\n"
     ]
    }
   ],
   "source": [
    "name = '홍길동'\n",
    "age = 20\n",
    "\n",
    "# 제 이름은 홍길동이고, 나이는 20살 입니다.\n",
    "print(f'제 이름은 {name} 이고 나이는 {age} 입니다.') # < 앞에 f 를 붙여주면 문자열+숫자 같이 쓸 수 있음."
   ]
  },
  {
   "cell_type": "code",
   "execution_count": null,
   "metadata": {},
   "outputs": [],
   "source": []
  },
  {
   "cell_type": "code",
   "execution_count": null,
   "metadata": {},
   "outputs": [],
   "source": []
  },
  {
   "cell_type": "code",
   "execution_count": null,
   "metadata": {},
   "outputs": [],
   "source": []
  }
 ],
 "metadata": {
  "kernelspec": {
   "display_name": "Python 3",
   "language": "python",
   "name": "python3"
  },
  "language_info": {
   "codemirror_mode": {
    "name": "ipython",
    "version": 3
   },
   "file_extension": ".py",
   "mimetype": "text/x-python",
   "name": "python",
   "nbconvert_exporter": "python",
   "pygments_lexer": "ipython3",
   "version": "3.12.4"
  }
 },
 "nbformat": 4,
 "nbformat_minor": 2
}
