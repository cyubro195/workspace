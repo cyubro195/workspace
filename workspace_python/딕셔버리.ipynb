{
 "cells": [
  {
   "cell_type": "code",
   "execution_count": null,
   "metadata": {},
   "outputs": [],
   "source": [
    "#딕셔너리(Dictionary)\n",
    "#여러 데이터가 key와 value의 쌍으로 저장한 데이터"
   ]
  },
  {
   "cell_type": "code",
   "execution_count": null,
   "metadata": {},
   "outputs": [],
   "source": [
    "# 빈 딕셔너리 생성\n",
    "dic1 = {}\n",
    "dic2 = {'name' : 'kim' , 'age' : 20}"
   ]
  },
  {
   "cell_type": "code",
   "execution_count": 1,
   "metadata": {},
   "outputs": [
    {
     "name": "stdout",
     "output_type": "stream",
     "text": [
      "{'stuNum': 3, 'stuName': 'hong'}\n"
     ]
    }
   ],
   "source": [
    "# 중복된 key 값을 가질 수 없음.\n",
    "dic3 = {\n",
    "  'stuNum' : 1,\n",
    "  'stuName' : 'hong',\n",
    "  'stuNum' : 3\n",
    "}\n",
    "# 자바스크립트랑 같\n",
    "print(dic3)"
   ]
  },
  {
   "cell_type": "code",
   "execution_count": 3,
   "metadata": {},
   "outputs": [
    {
     "name": "stdout",
     "output_type": "stream",
     "text": [
      "{'name': 'lee', 'age': 30}\n",
      "{'name': 'kim', 'age': 30}\n"
     ]
    }
   ],
   "source": [
    "# 데이터 추가 \n",
    "# dic['key'] = value\n",
    "dic1 = {}\n",
    "dic1['name'] = 'lee'\n",
    "dic1['age'] = 30\n",
    "\n",
    "print(dic1)\n",
    "\n",
    "# name이라는 key 값을 'kim'으로 변경\n",
    "dic1['name'] = 'kim'\n",
    "print(dic1)"
   ]
  },
  {
   "cell_type": "code",
   "execution_count": 4,
   "metadata": {},
   "outputs": [
    {
     "name": "stdout",
     "output_type": "stream",
     "text": [
      "{'modelName': 'iPhone', 'price': 10000}\n"
     ]
    }
   ],
   "source": [
    "# 데이터 삭제\n",
    "phone = {\n",
    "  'modelName' : 'iPhone',\n",
    "  'price' : 10000,\n",
    "  'color' : 'black'\n",
    "}\n",
    "\n",
    "del phone['color']\n",
    "print(phone)"
   ]
  },
  {
   "cell_type": "code",
   "execution_count": 11,
   "metadata": {},
   "outputs": [
    {
     "name": "stdout",
     "output_type": "stream",
     "text": [
      "samsung\n",
      "dict_keys(['brand', 'price', 'inch', 'color'])\n",
      "dict_values(['samsung', 10000, 24, 'white'])\n",
      "brand samsung\n",
      "price 10000\n",
      "inch 24\n",
      "color white\n"
     ]
    }
   ],
   "source": [
    "# 데이터 출력\n",
    "\n",
    "monitor = {\n",
    "  'brand' : 'samsung',\n",
    "  'price' : 10000,\n",
    "  'inch' : 24,\n",
    "  'color' : 'white'\n",
    "}\n",
    "\n",
    "# 브랜드만 출력\n",
    "print(monitor['brand']) # < 키값만 넣어도 하나의 데이터 가능.\n",
    "\n",
    "# 모든 KEY 값을 출력\n",
    "print(monitor.keys()) \n",
    "\n",
    "# 모든 valuse 값 출력\n",
    "print(monitor.values())\n",
    "\n",
    "# 반복문을 이용한 key 와 value를 출력\n",
    "#for i in [1,2,3] :\n",
    "#  print(i)\n",
    "\n",
    "# for i in monitor.keys() : # 리스트를 호출해도 됨!\n",
    "#   print(i)\n",
    "for key in monitor.keys() : # i 자리에 key넣어드댐 \n",
    "  print(key, monitor[key])"
   ]
  },
  {
   "cell_type": "code",
   "execution_count": 19,
   "metadata": {},
   "outputs": [
    {
     "name": "stdout",
     "output_type": "stream",
     "text": [
      "game\n",
      "kim\n"
     ]
    }
   ],
   "source": [
    "intro = {\n",
    "  'name' : 'hong',\n",
    "  'age' : 20,\n",
    "  'hobby' : ['game', 'study'],\n",
    "  'family' : {\n",
    "    'mother' : 'kim',\n",
    "    'father' : 'hong'\n",
    "  } # 객체 안에 객체 가능. \n",
    "}\n",
    "\n",
    "# intro 데이터에 첫번째 취미 출력\n",
    "print(intro['hobby'][0])\n",
    "\n",
    "# 어머니의 이름을 출력\n",
    "print(intro['family']['mother'])"
   ]
  },
  {
   "cell_type": "code",
   "execution_count": 21,
   "metadata": {},
   "outputs": [],
   "source": [
    "# 아래의 데이터를 참고하여 문제를 해결해보슈!\n",
    "\n",
    "student = {\n",
    "  'name' : 'hong',\n",
    "  'korScore' : 10,\n",
    "  'mathScore' : 10\n",
    "}"
   ]
  },
  {
   "cell_type": "code",
   "execution_count": 23,
   "metadata": {},
   "outputs": [
    {
     "name": "stdout",
     "output_type": "stream",
     "text": [
      "점수를 입력해 주세요\n",
      "{'name': 'hong', 'korScore': 80, 'mathScore': 90, 'totalScore': 170}\n"
     ]
    }
   ],
   "source": [
    "# 위에서 선언한 딕셔너리 데이터의 국어점수 및 수학점수를 키보드로 입력받은 데이터로 변경시키셈\n",
    "\n",
    "print('점수를 입력해 주세요')\n",
    "\n",
    "#국어점수와 수학점수가 변경되었다면 총점을 저장하셈.\n",
    "\n",
    "student['korScore'] = int(input(' 국어점수 : '))\n",
    "student['mathScore'] = int(input(' 수학점수 : '))\n",
    "\n",
    "# 총점의 키는 'totalScore' 라고 지정.\n",
    "student['totalScore'] = student['korScore']  + student['mathScore']\n",
    "print(student)"
   ]
  },
  {
   "cell_type": "code",
   "execution_count": null,
   "metadata": {},
   "outputs": [],
   "source": []
  },
  {
   "cell_type": "code",
   "execution_count": null,
   "metadata": {},
   "outputs": [],
   "source": []
  },
  {
   "cell_type": "code",
   "execution_count": null,
   "metadata": {},
   "outputs": [],
   "source": []
  },
  {
   "cell_type": "code",
   "execution_count": null,
   "metadata": {},
   "outputs": [],
   "source": []
  },
  {
   "cell_type": "code",
   "execution_count": null,
   "metadata": {},
   "outputs": [],
   "source": []
  }
 ],
 "metadata": {
  "kernelspec": {
   "display_name": "Python 3",
   "language": "python",
   "name": "python3"
  },
  "language_info": {
   "codemirror_mode": {
    "name": "ipython",
    "version": 3
   },
   "file_extension": ".py",
   "mimetype": "text/x-python",
   "name": "python",
   "nbconvert_exporter": "python",
   "pygments_lexer": "ipython3",
   "version": "3.12.4"
  }
 },
 "nbformat": 4,
 "nbformat_minor": 2
}
