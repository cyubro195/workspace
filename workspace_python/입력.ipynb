{
 "cells": [
  {
   "cell_type": "code",
   "execution_count": 1,
   "metadata": {},
   "outputs": [
    {
     "name": "stdout",
     "output_type": "stream",
     "text": [
      "입력받은 수는 1234 입니다.\n"
     ]
    }
   ],
   "source": [
    "# 키보드로 입력받기\n",
    "# input() 함수 사용으로 키보드로 값을 입력받을 수 있다.\n",
    "\n",
    "num = input('숫자를 입력하세요 : ')\n",
    "print(f'입력받은 수는 {num} 입니다.')"
   ]
  },
  {
   "cell_type": "code",
   "execution_count": 5,
   "metadata": {},
   "outputs": [
    {
     "name": "stdout",
     "output_type": "stream",
     "text": [
      "110\n"
     ]
    }
   ],
   "source": [
    "# 문자열을 정수로 변환\n",
    "result1 = int('10')\n",
    "result2 = int('100')\n",
    "print(result1 + result2)"
   ]
  },
  {
   "cell_type": "code",
   "execution_count": 4,
   "metadata": {},
   "outputs": [
    {
     "name": "stdout",
     "output_type": "stream",
     "text": [
      "입력하신 두 수의 합은 19 입니다\n"
     ]
    }
   ],
   "source": [
    "# 두 정수를 입력받아 두 정수의 합을 출력해보세요....ㅡㅠ\n",
    "\n",
    "# num1 = input('첫번째 숫자를 입력해주세용 : ')\n",
    "# num2 = input('두번째 숫자를 입력해주세용 : ')\n",
    "\n",
    "# 쉽게하면 이렇게 가능! \n",
    "num1 = int(input('첫번째 숫자를 입력해주세용 : '))\n",
    "num2 = int(input('두번째 숫자를 입력해주세용 : '))\n",
    "\n",
    "# print(f'입력하신 두 수의 합은 {num1+num2} 입니다.') # 이렇게하면 문자로 입력받기 때문에 안됨! \n",
    "print(f'입력하신 두 수의 합은 {int(num1) + int(num2)} 입니다') # 이렇게 해야  숫자로 인식받아서 더하기가 가능함! \n"
   ]
  },
  {
   "cell_type": "code",
   "execution_count": 8,
   "metadata": {},
   "outputs": [
    {
     "name": "stdout",
     "output_type": "stream",
     "text": [
      "====== 입력받은 학생의 정보는 다음과 같습니다 ======\n",
      "이름 : 이야호\n",
      "국어 : 90\n",
      "영어 : 80\n",
      "수학 : 70\n",
      "총합 : 240\n",
      "평균 : 80.0\n"
     ]
    }
   ],
   "source": [
    "\n",
    "# 키보드로 학생의 이름, 국어점수, 영어점수, 수학점수를 입력받아\n",
    "# 입력받은 학생의 이름, 국어점수, 영어점수, 수학점수 및 총 점과 평균츨력\n",
    "\n",
    "num = input(' 학생의 이름 : ')\n",
    "korScore = int(input(' 국어점수 : '))\n",
    "engScore = int(input(' 영어점수 : '))\n",
    "mathScore = int(input(' 수학점수 : '))\n",
    "\n",
    "# 총점 및 평균\n",
    "totalScore = korScore + engScore + mathScore\n",
    "avg = totalScore/3\n",
    "\n",
    "# 결과출력\n",
    "print('====== 입력받은 학생의 정보는 다음과 같습니다 ======')\n",
    "print(f'이름 : {num}')\n",
    "print(f'국어 : {korScore}')\n",
    "print(f'영어 : {engScore}')\n",
    "print(f'수학 : {mathScore}')\n",
    "print(f'총합 : {totalScore}')\n",
    "print(f'평균 : {avg}')"
   ]
  },
  {
   "cell_type": "code",
   "execution_count": null,
   "metadata": {},
   "outputs": [],
   "source": []
  },
  {
   "cell_type": "code",
   "execution_count": null,
   "metadata": {},
   "outputs": [],
   "source": []
  },
  {
   "cell_type": "code",
   "execution_count": null,
   "metadata": {},
   "outputs": [],
   "source": []
  },
  {
   "cell_type": "code",
   "execution_count": null,
   "metadata": {},
   "outputs": [],
   "source": []
  },
  {
   "cell_type": "code",
   "execution_count": null,
   "metadata": {},
   "outputs": [],
   "source": []
  },
  {
   "cell_type": "code",
   "execution_count": null,
   "metadata": {},
   "outputs": [],
   "source": []
  }
 ],
 "metadata": {
  "kernelspec": {
   "display_name": "Python 3",
   "language": "python",
   "name": "python3"
  },
  "language_info": {
   "codemirror_mode": {
    "name": "ipython",
    "version": 3
   },
   "file_extension": ".py",
   "mimetype": "text/x-python",
   "name": "python",
   "nbconvert_exporter": "python",
   "pygments_lexer": "ipython3",
   "version": "3.12.4"
  }
 },
 "nbformat": 4,
 "nbformat_minor": 2
}
