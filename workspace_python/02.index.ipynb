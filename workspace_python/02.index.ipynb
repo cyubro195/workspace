{
 "cells": [
  {
   "cell_type": "code",
   "execution_count": null,
   "metadata": {},
   "outputs": [],
   "source": [
    "# index 초기화\n",
    "# True, False\n",
    "# drop = True : index"
   ]
  },
  {
   "cell_type": "code",
   "execution_count": null,
   "metadata": {},
   "outputs": [],
   "source": []
  },
  {
   "cell_type": "code",
   "execution_count": null,
   "metadata": {},
   "outputs": [],
   "source": [
    "# 새로운 내용을 확인하기 위해 데이터 프레임 새로 생성\n",
    "df = pandas.DataFrame(data)\n",
    "df "
   ]
  },
  {
   "cell_type": "code",
   "execution_count": null,
   "metadata": {},
   "outputs": [],
   "source": [
    "# 컬럼을 index로 지정\n",
    "# 이름을 index로 지정 \n",
    "# inplace=True를 작성해야 저장 됨\n",
    "df.set_index('이름', inplace=True)\n"
   ]
  },
  {
   "cell_type": "code",
   "execution_count": null,
   "metadata": {},
   "outputs": [],
   "source": [
    "# 위에서 변경한 index를 다시 초기화시키는 문법은?\n",
    "df.reset_index(inplace=True)\n"
   ]
  }
 ],
 "metadata": {
  "language_info": {
   "name": "python"
  }
 },
 "nbformat": 4,
 "nbformat_minor": 2
}
